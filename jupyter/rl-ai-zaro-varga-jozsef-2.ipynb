{
 "cells": [
  {
   "cell_type": "markdown",
   "metadata": {
    "slideshow": {
     "slide_type": "slide"
    }
   },
   "source": [
    "# RL Gaming AI"
   ]
  },
  {
   "cell_type": "markdown",
   "metadata": {},
   "source": [
    "## Kihívások"
   ]
  },
  {
   "cell_type": "markdown",
   "metadata": {
    "slideshow": {
     "slide_type": "slide"
    }
   },
   "source": [
    "## Evolúció"
   ]
  },
  {
   "cell_type": "markdown",
   "metadata": {},
   "source": [
    "- Mocsar – Első próbálkozás, 2019 február\n",
    "- Mocsar2 – Refaktorálás, osztályok, tud játszani, 2019 április\n",
    "- RLCard – Rlcard.org keretrendszerbe költözés, 2019 december eleje\n",
    "- RLCard2 – Első RL AI model futás, 2020 január\n",
    "- RLCard3 – Rlcard.org git pull, refactor, PyTorch model, jelen"
   ]
  },
  {
   "cell_type": "markdown",
   "metadata": {
    "slideshow": {
     "slide_type": "notes"
    }
   },
   "source": [
    "Hosszú folyamat eredménye az RLCard 3."
   ]
  },
  {
   "cell_type": "markdown",
   "metadata": {
    "slideshow": {
     "slide_type": "slide"
    }
   },
   "source": [
    "## 1. Elképzelés"
   ]
  },
  {
   "cell_type": "markdown",
   "metadata": {},
   "source": [
    "### Válasszunk egyszerű esetet, és ott kezdjünk modellt építeni"
   ]
  },
  {
   "cell_type": "markdown",
   "metadata": {},
   "source": [
    "Egyszerű eset, játsszanak amodellek kevesebb lappal."
   ]
  },
  {
   "cell_type": "markdown",
   "metadata": {
    "slideshow": {
     "slide_type": "subslide"
    }
   },
   "source": [
    "### Random Agent"
   ]
  },
  {
   "cell_type": "code",
   "execution_count": 14,
   "metadata": {},
   "outputs": [],
   "source": [
    "    def step(self, state) -> str:\n",
    "        \"\"\" Predict the action given raw state. A naive rule.\n",
    "        Choose a random action.\n",
    "\n",
    "        Args:\n",
    "            state (dict): Raw state from the game\n",
    "\n",
    "        Returns:\n",
    "            action (str): Predicted action\n",
    "        \"\"\"\n",
    "        is_extract = state['is_extract']\n",
    "        action_ids = get_action_ids(legal_actions=state['legal_actions'],\n",
    "                                    is_extracted=is_extract)\n",
    "        if len(action_ids) == 1:\n",
    "            # Ha nincs miből választani\n",
    "            ret = action_ids[0]\n",
    "        elif action_ids[0] == 0:\n",
    "            # ha lehet választani, akor nem passzol\n",
    "            ret = int(np.random.choice(action_ids[1:]))\n",
    "        else:\n",
    "            ret = int(np.random.choice(action_ids))\n",
    "        return action_to_ret(action=ret, is_extracted=is_extract)"
   ]
  },
  {
   "cell_type": "markdown",
   "metadata": {
    "slideshow": {
     "slide_type": "notes"
    }
   },
   "source": [
    "Nem tűnik úgy, hogy különösebb tudása lenne a játékról, ennek ellenére kis kártyaszámra hatékony!"
   ]
  },
  {
   "cell_type": "markdown",
   "metadata": {
    "slideshow": {
     "slide_type": "subslide"
    }
   },
   "source": [
    "### Min Agent"
   ]
  },
  {
   "cell_type": "code",
   "execution_count": 15,
   "metadata": {},
   "outputs": [],
   "source": [
    "    def step(self, state) :\n",
    "        \"\"\" Predict the action given raw state. A naive rule.\n",
    "        Choose the minimal action.\n",
    "\n",
    "        Args:\n",
    "            state (dict): Raw state from the game\n",
    "\n",
    "        Returns:\n",
    "            action (str): Predicted action\n",
    "        \"\"\"\n",
    "        is_extract = state['is_extract']\n",
    "        action_ids = get_action_ids(legal_actions=state['legal_actions'],\n",
    "                                    is_extracted=is_extract)\n",
    "        if len(action_ids) == 1:\n",
    "            # Ha nincs miből választani\n",
    "            return action_to_ret(action_ids[0], is_extract)\n",
    "        elif action_ids[0] == 0:\n",
    "            # ha lehet választani, akor nem passzol\n",
    "            return action_to_ret(min(action_ids[1:]), is_extract)\n",
    "        return action_to_ret(min(action_ids), is_extract)"
   ]
  },
  {
   "cell_type": "markdown",
   "metadata": {
    "slideshow": {
     "slide_type": "notes"
    }
   },
   "source": [
    "Annak ellenére, hogy ennek sincs tudása a jáátékról, ez elég erős agent! Mivel az Action számozás jól sikerült. Implicit tudás."
   ]
  },
  {
   "cell_type": "markdown",
   "metadata": {
    "slideshow": {
     "slide_type": "subslide"
    }
   },
   "source": [
    "### Min vs Random, CAS, kevés joker, adatok"
   ]
  },
  {
   "cell_type": "code",
   "execution_count": 16,
   "metadata": {},
   "outputs": [],
   "source": [
    "import io\n",
    "from urllib.request import urlopen\n",
    "import pandas as pd\n",
    "\n",
    "r = urlopen('https://github.com/cogitoergoread/rlcard3/raw/master/jupyter/data/CAS2_110_MMRR_500_20200405-113309.csv.gz')\n",
    "df = pd.read_csv(io.BytesIO(r.read()), compression='gzip', sep=\";\")\n"
   ]
  },
  {
   "cell_type": "code",
   "execution_count": 17,
   "metadata": {},
   "outputs": [],
   "source": [
    "import seaborn as sns\n",
    "import matplotlib.pyplot as plt\n",
    "def create_plots(df: pd.DataFrame, agentstr: str, title: str, is_violin: bool, filename: str):\n",
    "    \"\"\"\n",
    "    Create nice figures from the played data\n",
    "    :param title: Tilte of the figure\n",
    "    :param df: DataFrame containing the logs of the games\n",
    "    :param agentstr: Which type of data to display\n",
    "    :param is_violin: Violin / line graph\n",
    "    :param filename: filename to store the fihure\n",
    "    \"\"\"\n",
    "    sns.set(rc={'figure.figsize':(12,7)})\n",
    "    if is_violin:\n",
    "        _ = sns.violinplot(x=\"cardnr\", y=\"payoff\", data=df[(df['agentstr'] == agentstr)], hue=\"agentid\",\n",
    "                           split=True).set_title(title)\n",
    "    else:\n",
    "        _ = sns.relplot(x=\"cardnr\", y=\"payoff\", kind=\"line\", data=df[(df['agentstr'] == agentstr)], hue=\"agentid\")\n",
    "        plt.title(title)\n",
    "    \n",
    "    plt.show()\n"
   ]
  },
  {
   "cell_type": "markdown",
   "metadata": {
    "slideshow": {
     "slide_type": "subslide"
    }
   },
   "source": [
    "### Vizualizáció, Min vs Random, CAS, kevés joker, adatok"
   ]
  },
  {
   "cell_type": "code",
   "execution_count": 18,
   "metadata": {},
   "outputs": [
    {
     "data": {
      "image/png": "[encoded data removed]",
      "text/plain": [
       "<Figure size 864x504 with 1 Axes>"
      ]
     },
     "metadata": {},
     "output_type": "display_data"
    }
   ],
   "source": [
    "create_plots(df, 'MMRR', \"Payoff distribution for 2 Min and 2 Random agents\", True, \"Ag2vs2V\")"
   ]
  },
  {
   "cell_type": "markdown",
   "metadata": {
    "slideshow": {
     "slide_type": "notes"
    }
   },
   "source": [
    "Látható, hogy 20-30 kártyára még elég erős a random agent. Nagyon számít a kártyák véletlen leosztása, és kicsit számít a játékerő."
   ]
  },
  {
   "cell_type": "markdown",
   "metadata": {
    "slideshow": {
     "slide_type": "slide"
    }
   },
   "source": [
    "## 2. Elképzelés, kis epoch szám"
   ]
  },
  {
   "cell_type": "markdown",
   "metadata": {},
   "source": [
    "- Epoch: Egy teljes tanulási kör, minden adaton\n",
    "- Episode: egy lejátszott kártyajáték információi"
   ]
  },
  {
   "cell_type": "markdown",
   "metadata": {
    "slideshow": {
     "slide_type": "subslide"
    }
   },
   "source": [
    "### Adat betöltés, performance.csv"
   ]
  },
  {
   "cell_type": "code",
   "execution_count": 19,
   "metadata": {},
   "outputs": [
    {
     "data": {
      "text/html": [
       "<div>\n",
       "<style scoped>\n",
       "    .dataframe tbody tr th:only-of-type {\n",
       "        vertical-align: middle;\n",
       "    }\n",
       "\n",
       "    .dataframe tbody tr th {\n",
       "        vertical-align: top;\n",
       "    }\n",
       "\n",
       "    .dataframe thead th {\n",
       "        text-align: right;\n",
       "    }\n",
       "</style>\n",
       "<table border=\"1\" class=\"dataframe\">\n",
       "  <thead>\n",
       "    <tr style=\"text-align: right;\">\n",
       "      <th></th>\n",
       "      <th>reward</th>\n",
       "      <th>episode</th>\n",
       "      <th>agent</th>\n",
       "    </tr>\n",
       "  </thead>\n",
       "  <tbody>\n",
       "    <tr>\n",
       "      <th>0</th>\n",
       "      <td>-0.174</td>\n",
       "      <td>0</td>\n",
       "      <td>R</td>\n",
       "    </tr>\n",
       "    <tr>\n",
       "      <th>1</th>\n",
       "      <td>-0.357</td>\n",
       "      <td>4000</td>\n",
       "      <td>R</td>\n",
       "    </tr>\n",
       "    <tr>\n",
       "      <th>2</th>\n",
       "      <td>-0.301</td>\n",
       "      <td>8000</td>\n",
       "      <td>R</td>\n",
       "    </tr>\n",
       "    <tr>\n",
       "      <th>3</th>\n",
       "      <td>0.452</td>\n",
       "      <td>12000</td>\n",
       "      <td>R</td>\n",
       "    </tr>\n",
       "    <tr>\n",
       "      <th>4</th>\n",
       "      <td>0.694</td>\n",
       "      <td>16000</td>\n",
       "      <td>R</td>\n",
       "    </tr>\n",
       "  </tbody>\n",
       "</table>\n",
       "</div>"
      ],
      "text/plain": [
       "   reward  episode agent\n",
       "0  -0.174        0     R\n",
       "1  -0.357     4000     R\n",
       "2  -0.301     8000     R\n",
       "3   0.452    12000     R\n",
       "4   0.694    16000     R"
      ]
     },
     "execution_count": 19,
     "metadata": {},
     "output_type": "execute_result"
    }
   ],
   "source": [
    "import io\n",
    "from urllib.request import urlopen\n",
    "import pandas as pd\n",
    "import seaborn as sns\n",
    "import matplotlib.pyplot as plt\n",
    "\n",
    "r1 = urlopen(\n",
    "    'https://github.com/cogitoergoread/rlcard3/raw/master/jupyter/data/2020_04_07_DQN_Pytorch_Random_200k.csv.gz')\n",
    "df1 = pd.read_csv(io.BytesIO(r1.read()), compression='gzip', sep=\",\")\n",
    "df1['agent'] = 'R'\n",
    "df = df1[['reward', 'episode', 'agent']]\n",
    "df.head()"
   ]
  },
  {
   "cell_type": "markdown",
   "metadata": {
    "slideshow": {
     "slide_type": "subslide"
    }
   },
   "source": [
    "### Vizualizáció, Mean payoff for DQN agent vs Random agents, episode"
   ]
  },
  {
   "cell_type": "code",
   "execution_count": 20,
   "metadata": {},
   "outputs": [
    {
     "data": {
      "image/png": "[encoded data removed]",
      "text/plain": [
       "<Figure size 360x360 with 1 Axes>"
      ]
     },
     "metadata": {},
     "output_type": "display_data"
    }
   ],
   "source": [
    "sns.set(rc={'figure.figsize':(12,7)})\n",
    "_ = sns.relplot(x=\"episode\", y=\"reward\", kind=\"line\", data=df )\n",
    "plt.show()"
   ]
  },
  {
   "cell_type": "markdown",
   "metadata": {
    "slideshow": {
     "slide_type": "slide"
    }
   },
   "source": [
    "## 3. Elképzelés, kitől érdemes tanulni"
   ]
  },
  {
   "cell_type": "markdown",
   "metadata": {},
   "source": [
    "- NFSP: Önmaga ellen\n",
    "- DQN: Random agent ellen\n",
    "- DQN RA: Rule Agent (Min Agent) ellen"
   ]
  },
  {
   "cell_type": "markdown",
   "metadata": {
    "slideshow": {
     "slide_type": "subslide"
    }
   },
   "source": [
    "### Adat betöltés, 3 db performance.csv"
   ]
  },
  {
   "cell_type": "code",
   "execution_count": 4,
   "metadata": {},
   "outputs": [
    {
     "data": {
      "text/html": [
       "<div>\n",
       "<style scoped>\n",
       "    .dataframe tbody tr th:only-of-type {\n",
       "        vertical-align: middle;\n",
       "    }\n",
       "\n",
       "    .dataframe tbody tr th {\n",
       "        vertical-align: top;\n",
       "    }\n",
       "\n",
       "    .dataframe thead th {\n",
       "        text-align: right;\n",
       "    }\n",
       "</style>\n",
       "<table border=\"1\" class=\"dataframe\">\n",
       "  <thead>\n",
       "    <tr style=\"text-align: right;\">\n",
       "      <th></th>\n",
       "      <th>reward</th>\n",
       "      <th>episode</th>\n",
       "      <th>agent</th>\n",
       "    </tr>\n",
       "  </thead>\n",
       "  <tbody>\n",
       "    <tr>\n",
       "      <th>0</th>\n",
       "      <td>-0.174</td>\n",
       "      <td>0</td>\n",
       "      <td>R</td>\n",
       "    </tr>\n",
       "    <tr>\n",
       "      <th>1</th>\n",
       "      <td>-0.357</td>\n",
       "      <td>4000</td>\n",
       "      <td>R</td>\n",
       "    </tr>\n",
       "    <tr>\n",
       "      <th>2</th>\n",
       "      <td>-0.301</td>\n",
       "      <td>8000</td>\n",
       "      <td>R</td>\n",
       "    </tr>\n",
       "    <tr>\n",
       "      <th>3</th>\n",
       "      <td>0.452</td>\n",
       "      <td>12000</td>\n",
       "      <td>R</td>\n",
       "    </tr>\n",
       "    <tr>\n",
       "      <th>4</th>\n",
       "      <td>0.694</td>\n",
       "      <td>16000</td>\n",
       "      <td>R</td>\n",
       "    </tr>\n",
       "  </tbody>\n",
       "</table>\n",
       "</div>"
      ],
      "text/plain": [
       "   reward  episode agent\n",
       "0  -0.174        0     R\n",
       "1  -0.357     4000     R\n",
       "2  -0.301     8000     R\n",
       "3   0.452    12000     R\n",
       "4   0.694    16000     R"
      ]
     },
     "execution_count": 4,
     "metadata": {},
     "output_type": "execute_result"
    }
   ],
   "source": [
    "import io\n",
    "from urllib.request import urlopen\n",
    "import pandas as pd\n",
    "import seaborn as sns\n",
    "import matplotlib.pyplot as plt\n",
    "\n",
    "r1 = urlopen(\n",
    "    'https://github.com/cogitoergoread/rlcard3/raw/master/jupyter/data/2020_04_07_DQN_Pytorch_Random_200k.csv.gz')\n",
    "df1 = pd.read_csv(io.BytesIO(r1.read()), compression='gzip', sep=\",\")\n",
    "df1['agent'] = 'R'\n",
    "\n",
    "r2 = urlopen('https://github.com/cogitoergoread/rlcard3/raw/master/jupyter/data/2020_04_02_DQN_Pytorch_Min_200k.csv.gz')\n",
    "df2 = pd.read_csv(io.BytesIO(r2.read()), compression='gzip', sep=\",\")\n",
    "df2['agent'] = 'M'\n",
    "\n",
    "r3 = urlopen('https://github.com/cogitoergoread/rlcard3/raw/master/jupyter/data/2020_04_10_NFSP_Pytorch_200k.csv.gz')\n",
    "df3 = pd.read_csv(io.BytesIO(r3.read()), compression='gzip', sep=\",\")\n",
    "df3['agent'] = 'N'\n",
    "\n",
    "\n",
    "df = pd.concat([df1, df2, df3])\n",
    "\n",
    "df = df[['reward', 'episode', 'agent']]\n",
    "df.head()"
   ]
  },
  {
   "cell_type": "markdown",
   "metadata": {
    "slideshow": {
     "slide_type": "subslide"
    }
   },
   "source": [
    "### Vizualizáció, Mean payoff for RLAI agent vs Random agents, episode"
   ]
  },
  {
   "cell_type": "code",
   "execution_count": 6,
   "metadata": {},
   "outputs": [
    {
     "data": {
      "image/png": "[encoded data removed]",
      "text/plain": [
       "<Figure size 427.225x360 with 1 Axes>"
      ]
     },
     "metadata": {},
     "output_type": "display_data"
    }
   ],
   "source": [
    "sns.set(rc={'figure.figsize':(12,7)})\n",
    "title = \"Mean payoff for RL AI agent vs Random agents, NFSP:N; DQN learnt against R:Random / M:Min agents\"\n",
    "_ = sns.relplot(x=\"episode\", y=\"reward\", kind=\"line\", data=df , hue=\"agent\")\n",
    "plt.title(title)\n",
    "plt.show()"
   ]
  },
  {
   "cell_type": "markdown",
   "metadata": {
    "slideshow": {
     "slide_type": "notes"
    }
   },
   "source": [
    "NFSP Nem sikeres a tanulásban.\n",
    "\n",
    "DQN érdekes módon pont annyira lehet random agenttől is tanulni, mint okosabb agenttől."
   ]
  },
  {
   "cell_type": "markdown",
   "metadata": {
    "slideshow": {
     "slide_type": "slide"
    }
   },
   "source": [
    "## Model méretek, CAS - RAS"
   ]
  },
  {
   "cell_type": "markdown",
   "metadata": {},
   "source": [
    "RLCard 2020.02.10-ig TensorFlow 1.15 natív kódot tartalmazott.\n",
    "\n",
    "Itt a modelle mentése - visszatöltése problémás.\n",
    "\n",
    "Másrészt az elmentett modellek mérete kezelhetetlenül nagy.\n",
    "\n",
    "Ráadásul nem lehet pontosan visszatölteni a modelleket eltérő architektúrán (Linux -> Windows)"
   ]
  },
  {
   "cell_type": "markdown",
   "metadata": {
    "slideshow": {
     "slide_type": "subslide"
    }
   },
   "source": [
    "### TensorFLow 1.15 model méretek"
   ]
  },
  {
   "cell_type": "markdown",
   "metadata": {},
   "source": [
    "```\n",
    "tar tvfj mocsar_nfsp_35_10k-2.tar.bz2\n",
    "drwxr-xr-x muszi/Domain Users 0 2020-02-18 12:31 examples/experiments/mocsar_nfsp_result/\n",
    "...\n",
    "-rw-r--r-- muszi/Domain Users 1086160996 2020-02-19 00:03 examples/models/mocsar/model.data-00000-of-00001\n",
    "```\n",
    "\n",
    "```\n",
    "-rw-r--r-- muszi/Domain Users 59326484 2020-03-01 17:34 examples/models/mocsar/model.data-00000-of-00001\n",
    "\n",
    "```\n"
   ]
  },
  {
   "cell_type": "markdown",
   "metadata": {},
   "source": [
    "|Model|Byte|Human|\n",
    "|--|--|--|\n",
    "|NFSP| 1 086 160 996|1 G|\n",
    "|DQN| 59 326 484| 59 M|"
   ]
  },
  {
   "cell_type": "markdown",
   "metadata": {
    "slideshow": {
     "slide_type": "subslide"
    }
   },
   "source": [
    "### Túl nagy Action álllapottér"
   ]
  },
  {
   "cell_type": "markdown",
   "metadata": {},
   "source": [
    "RLCard.org Paper: https://arxiv.org/pdf/1910.04376.pdf\n",
    "\n",
    " Speciﬁcally, they only achieve minor improvements during the learning process on UNO, Mahjong and Dou Dizhu. These games are challenging due to their **large state/action space** and sparse reward. We believe there is a lot of room for improvement. More efforts are needed to study how we can stably train reinforcement learning agents in these large environments. "
   ]
  },
  {
   "cell_type": "markdown",
   "metadata": {},
   "source": [
    "State állapot teret nem lehet csökkenteni. Action állapot teret azonban igen!"
   ]
  },
  {
   "cell_type": "markdown",
   "metadata": {
    "slideshow": {
     "slide_type": "subslide"
    }
   },
   "source": [
    "### CAS: Complex Action Space"
   ]
  },
  {
   "cell_type": "code",
   "execution_count": null,
   "metadata": {},
   "outputs": [],
   "source": [
    "def tuple_to_actionm(nr_cards: int, rank: int, nr_jokers: int) -> int:\n",
    "    \"\"\"\n",
    "    Converts a tuple of possibel action to int\n",
    "    :param nr_cards: Number of cards played\n",
    "    :param rank: Rank of the main card (Értekek)\n",
    "    :param nr_jokers: Number of additional jokers\n",
    "    :return: Joined 4 bit values\n",
    "    \"\"\"\n",
    "    if rank == Ertekek.CO:\n",
    "        # Joker esetén korrigál, azt másképp képezzük le\n",
    "        return 256 * (nr_cards - 1) + 16 * rank + nr_cards\n",
    "    return 256 * nr_jokers + 16 * rank + nr_cards"
   ]
  },
  {
   "cell_type": "markdown",
   "metadata": {},
   "source": [
    "Ez 4096 elemű állapottér.\n",
    "\n",
    "Tartalmaz számtalan - a játék szempontjából - nem 'logikus' akciót. Pl.\n",
    "\n",
    "- 3 db 7est enged ütni 1 8-as + két jokerrel, holott van 3 8-as a kézben."
   ]
  },
  {
   "cell_type": "markdown",
   "metadata": {
    "slideshow": {
     "slide_type": "subslide"
    }
   },
   "source": [
    "### RAS: Reduced Action Space\n",
    "\n",
    "Csökkenteni kell az állapotok számát, hogy az RL modellek egyszerűbbek lehessenek."
   ]
  },
  {
   "cell_type": "code",
   "execution_count": null,
   "metadata": {},
   "outputs": [],
   "source": [
    "@unique\n",
    "class Action(IntEnum):\n",
    "    \"\"\"\n",
    "    Action definíciók\n",
    "    \"\"\"\n",
    "    PS = 0  # Pass\n",
    "    M2 = 1  # minden kettes, ha nem Joker\n",
    "    M3 = 2  # Minden 3-as, ill 3-as felülütve\n",
    "    M4 = 3\n",
    " ....\n",
    "    MA = 13\n",
    "    MO = 14  # Jokerrel felülütve, ill. minden joker\n",
    "    J2 = 15  # Minden kettes az összes jokerrel\n",
    "    J3 = 16\n",
    "...\n",
    "    JK = 26\n",
    "    JA = 27  # Minden Ász és össze joker\n",
    "    O2 = 28  # Egy darab 2, ha nincs Jokerre mapaelve\n",
    "    O3 = 29  # Egy db hármas\n",
    "    O4 = 30\n",
    " ...\n",
    "    OK = 39\n",
    "    OA = 40  # Egy Db Ász\n"
   ]
  },
  {
   "cell_type": "markdown",
   "metadata": {
    "slideshow": {
     "slide_type": "subslide"
    }
   },
   "source": [
    "### RAS hatása\n",
    "\n",
    "Ez egy másik mocsár játék. Más szabályokkal.\n",
    "\n",
    "Kezdéskor:\n",
    " - vagy egy lappal lehet kezdeni, \n",
    " - vagy minden azonos értékű lappal, \n",
    " - vagy minden azonos értékűvel + összes joker\n",
    " \n",
    "Nem lehet \n",
    " - kevesebb lappal kezdeni, \n",
    " - nem nem összes jokerrel kezdeni\n",
    " \n",
    "Mellékhatás, a RAS Min agent erősebb, mint a CAS Min agent. Kb mint CAS MinPlus agent."
   ]
  },
  {
   "cell_type": "markdown",
   "metadata": {
    "slideshow": {
     "slide_type": "subslide"
    }
   },
   "source": [
    "### TensorFlow 1.15 model, RAS"
   ]
  },
  {
   "cell_type": "markdown",
   "metadata": {},
   "source": [
    "```\n",
    "tar tvfj RAS_50k-model-nfsp.tar.bz2\n",
    "drwxr-xr-x muszi/Domain Users   0 2020-03-23 00:06 examples/models/mocsar_nfsp/\n",
    "-rw-r--r-- muszi/Domain Users 786610036 2020-03-23 00:06 examples/models/mocsar_nfsp/model.data-00000-of-00001\n",
    "```\n",
    "\n",
    "```\n",
    "tar tvfj RAS_50k-model-dqn-ra.tar.bz2 \n",
    "drwxr-xr-x muszi/Domain Users  0 2020-03-24 10:27 examples/models/mocsar_dqn_ra/\n",
    "-rw-r--r-- muszi/Domain Users 11465708 2020-03-24 10:27 examples/models/mocsar_dqn_ra/model.data-00000-of-00001\n",
    "```"
   ]
  },
  {
   "cell_type": "markdown",
   "metadata": {},
   "source": [
    "|Model|Byte|Human|\n",
    "|--|--|--|\n",
    "|NFSP| 786 610 036|786 M|\n",
    "|DQN| 11 465 708| 11 M|"
   ]
  },
  {
   "cell_type": "markdown",
   "metadata": {
    "slideshow": {
     "slide_type": "subslide"
    }
   },
   "source": [
    "### Pytorch model, RAS, RLCard3\n",
    "\n",
    "Szerencsére 2020.03.24 körül GitHub állapotban már volt Pytorch implemetnáció."
   ]
  },
  {
   "cell_type": "markdown",
   "metadata": {},
   "source": [
    "```\n",
    "tar tvfz 2020_04_10_NFSP_Pytorch_200k_model.tar.gz \n",
    "drwxr-xr-x muszi/Domain Users 0 2020-04-07 19:46 examples/models/mocsar_nfsp_pytorch/\n",
    "-rw-r--r-- muszi/Domain Users 23028012 2020-04-10 02:52 examples/models/mocsar_nfsp_pytorch/model.pth\n",
    "```\n",
    "\n",
    "```\n",
    " tar tvfj 2020_04_07_DQN_Pytorch_Random_200k_model.tar.gz\n",
    "drwxr-xr-x muszi/Domain Users 0 2020-04-07 10:34 examples/models/mocsar_dqn_ra_pytorch/\n",
    "-rw-r--r-- muszi/Domain Users 3837738 2020-04-07 10:34 examples/models/mocsar_dqn_ra_pytorch/model.pth\n",
    "```"
   ]
  },
  {
   "cell_type": "markdown",
   "metadata": {},
   "source": [
    "|Model|Byte|Human|\n",
    "|--|--|--|\n",
    "|NFSP| 230 280 126|230 M|\n",
    "|DQN| 3 837 738 | 4 M|\n",
    "\n",
    "Sajnos a Pytorch-ot nem sikerült Windows alatt működésre bírnom. Csak a szerveren futnak a tanított modellek."
   ]
  },
  {
   "cell_type": "markdown",
   "metadata": {
    "slideshow": {
     "slide_type": "slide"
    }
   },
   "source": [
    "## PyCharm fejlesztés, RLCard érdekességek"
   ]
  },
  {
   "cell_type": "markdown",
   "metadata": {
    "slideshow": {
     "slide_type": "subslide"
    }
   },
   "source": [
    "### Tesztek"
   ]
  },
  {
   "cell_type": "code",
   "execution_count": null,
   "metadata": {},
   "outputs": [],
   "source": [
    "@pytest.mark.parametrize('cards, action, nr_cards, idxlist', [\n",
    "    pytest.param([Card('H2'), Card('C2')], 'M2', 1, [0], id=\"Idx Kor 2*2; 1\"),\n",
    "    pytest.param([Card('H2'), Card('C2'), Card('C3')], 'M2', 2, [0, 1], id=\"Idx Kor 2*2, 3; 2\"),\n",
    "    pytest.param([Card('C3'), Card('H2')], 'M2', 1, [1], id=\"Idx Kor 3,2; 1\"),\n",
    "    pytest.param([Card('H7'), Card('**'), Card('H0'), Card('**')], 'M0', 1, [2], id=\"Idx Kor 7,0 2 Jok; 1\"),\n",
    "    pytest.param([Card('H7'), Card('**'), Card('H0'), Card('**')], 'M0', 2, [1, 2], id=\"Idx Kor 7,0 2 Jok; 2\"),\n",
    "    pytest.param([Card('H7'), Card('**'), Card('H0'), Card('**')], 'M0', 3, [1, 2, 3], id=\"Idx Kor 7,0 2 Jok; 3\"),\n",
    "    pytest.param([Card('♠K'), Card('♣K'), Card('♣2'), Card('♡A')], 'MK', 2, [0, 1], id=\"Kar 22KA, MK\")\n",
    "])\n",
    "def test_get_cardidx_indeces(cards, action, nr_cards, idxlist):\n",
    "    retli = get_card_indeces(cards, Action(action).value, nr_cards)\n",
    "    assert retli == idxlist\n",
    "\n",
    "\n",
    "action_str_data = [pytest.param(ac.value, ac.name, id=ac.name) for ac in Action]\n",
    "\n",
    "\n",
    "@pytest.mark.parametrize('action, strret', action_str_data)\n",
    "def test_action_to_string(action, strret):\n",
    "    retstr = action_to_string(action=action)\n",
    "    assert retstr == strret\n",
    "\n",
    "\n",
    "@pytest.mark.parametrize('action, strret', action_str_data)\n",
    "def test_string_to_action(action, strret):\n",
    "    retact = string_to_action(strret)\n",
    "    assert retact == action\n"
   ]
  },
  {
   "cell_type": "markdown",
   "metadata": {
    "slideshow": {
     "slide_type": "notes"
    }
   },
   "source": [
    "Nagyon hasznosa a paraméterezett tesztek, tömören le lehet írni a kívnt eredményt."
   ]
  },
  {
   "cell_type": "markdown",
   "metadata": {
    "slideshow": {
     "slide_type": "subslide"
    }
   },
   "source": [
    "### Futási eredmény\n",
    "\n",
    "```\n",
    "Testing started at 6:55 ...\n",
    "C:\\Users\\gombk\\.conda\\envs\\rlcard\\python.exe \"C:\\Program Files\\JetBrains\\PyCharm_Ana_2019_1_3\\plugins\\python\\helpers\\pycharm\\_jb_pytest_runner.py\" --target test_utils.py::test_get_cardidx_indeces\n",
    "Launching pytest with arguments test_utils.py::test_get_cardidx_indeces in F:\\muszi\\AnaPy\\rlcard3\\tests\\games\\mocsar\n",
    "\n",
    "============================= test session starts =============================\n",
    "platform win32 -- Python 3.6.7, pytest-5.0.1, py-1.8.1, pluggy-0.12.0 -- C:\\Users\\gombk\\.conda\\envs\\rlcard\\python.exe\n",
    "cachedir: .pytest_cache\n",
    "rootdir: F:\\muszi\\AnaPy\\rlcard3\\tests\\games\\mocsar\n",
    "plugins: steps-1.7.1\n",
    "collecting ... collected 8 items\n",
    "\n",
    "test_utils.py::test_get_cardidx_indeces[Idx Kor 2*2; 2] PASSED           [ 12%]\n",
    "test_utils.py::test_get_cardidx_indeces[Idx Kor 2*2, 3; 2] PASSED        [ 25%]\n",
    "test_utils.py::test_get_cardidx_indeces[Idx Kor 3,2; 1] PASSED           [ 37%]\n",
    "test_utils.py::test_get_cardidx_indeces[Idx Kor 7,0 2 Jok; M1] PASSED    [ 50%]\n",
    "test_utils.py::test_get_cardidx_indeces[Idx Kor 7,0 2 Jok; O1] PASSED    [ 62%]\n",
    "test_utils.py::test_get_cardidx_indeces[Idx Kor 7,0 2 Jok; 2] PASSED     [ 75%]\n",
    "test_utils.py::test_get_cardidx_indeces[Idx Kor 7,0 2 Jok; 3] PASSED     [ 87%]\n",
    "test_utils.py::test_get_cardidx_indeces[Kar 22KA, MK] PASSED             [100%]\n",
    "\n",
    "========================== 8 passed in 12.29 seconds ==========================\n",
    "\n",
    "Process finished with exit code 0\n",
    "```"
   ]
  },
  {
   "cell_type": "markdown",
   "metadata": {
    "slideshow": {
     "slide_type": "notes"
    }
   },
   "source": [
    "Tesztek az RLCard2 -> RLCard 3 migrációnál voltak különösen hasznosak. Egy már jó kód állapotból könnyen át lehetett térni egy másik jó állapotba."
   ]
  },
  {
   "cell_type": "markdown",
   "metadata": {
    "slideshow": {
     "slide_type": "subslide"
    }
   },
   "source": [
    "### GitHub környezet\n",
    "\n",
    "https://github.com/cogitoergoread/rlcard3\n",
    "\n",
    "Branchek:\n",
    "\n",
    "```\n",
    "git branch -a\n",
    "* CAS\n",
    "  RAS\n",
    "  master\n",
    "  remotes/origin/CAS\n",
    "  remotes/origin/HEAD -> origin/master\n",
    "  remotes/origin/RAS\n",
    "  remotes/origin/master\n",
    "```\n",
    "\n",
    "```\n",
    "git log --stat\n",
    "commit 3d7975c4a3f57b779ed5b01c6b3deacde88a1a59 (HEAD -> master, origin/master)\n",
    "Author: Varga GHupi Jozsef <31209755+cogitoergoread@users.noreply.github.com>\n",
    "Date:   Fri Apr 10 06:43:42 2020 +0200\n",
    "\n",
    "    Zaro II\n",
    "    NFSP payoff\n",
    "\n",
    " jupyter/data/2020_04_10_NFSP_Pytorch_200k.csv.gz | Bin 0 -> 1096 bytes\n",
    " jupyter/rl-ai-zaro-varga-jozsef-2.ipynb          | 307 +++++++++++++++++++++++++++++++++++++++++++++++++++++++++++---\n",
    " rlcard3/games/mocsar/action.py                   |  17 ++--\n",
    " 3 files changed, 302 insertions(+), 22 deletions(-)\n",
    "```"
   ]
  },
  {
   "cell_type": "markdown",
   "metadata": {
    "slideshow": {
     "slide_type": "notes"
    }
   },
   "source": [
    "Minden változást érdemes verzió kezelőben menteni. Eltérő verziókat lehet kezelni a kódhalmatból."
   ]
  },
  {
   "cell_type": "markdown",
   "metadata": {
    "slideshow": {
     "slide_type": "subslide"
    }
   },
   "source": [
    "### PyCharm IDE\n",
    "\n",
    "- Nagyon más, mint egy Jupyter notebook\n",
    "- Segít szintaktikusan helyes kódot írni\n",
    "- Jelzi a hibákat\n",
    "- Debugger\n",
    "- Git integráció\n",
    "- Kikényszeríti a szép kódot PEP-8"
   ]
  },
  {
   "cell_type": "markdown",
   "metadata": {
    "slideshow": {
     "slide_type": "subslide"
    }
   },
   "source": [
    "### Futtatás távoli szerveren"
   ]
  },
  {
   "cell_type": "markdown",
   "metadata": {},
   "source": [
    "|PC|Processor|RAM|TF|\n",
    "|--|--|--|--|\n",
    "|Notebook|i7|16 G|CPU|\n",
    "|Server|i9|64 G|GPU|\n",
    "\n",
    "Módszertan:\n",
    "- Fejlesztés lokális gépen, kis Episode szám\n",
    "- Tanítás szerveren.\n",
    "```\n",
    "screen\n",
    "cd gwork/rlcard3\n",
    "activate rlcard\n",
    "export PYTHONPATH=~/gwork/rlcard3/rlcard3\n",
    "cd examples\n",
    "python mocsar_ln_dqn_ra_pytorch.py\n",
    "```"
   ]
  },
  {
   "cell_type": "markdown",
   "metadata": {},
   "source": [
    "Futásidő, Episode 200 000:\n",
    "\n",
    "|Algoritmus|Kezdete|Vége|Idő|\n",
    "|---|--|--|--|\n",
    "|NFSP, Pytorch|2020-04-07 19:50:44|2020-04-10 02:51:46|55 óra|\n",
    "|DQN, Pytorch| 2020-04-02 06:15:54|2020-04-02 17:30:20|11 óra|"
   ]
  },
  {
   "cell_type": "code",
   "execution_count": null,
   "metadata": {},
   "outputs": [],
   "source": []
  }
 ],
 "metadata": {
  "celltoolbar": "Slideshow",
  "kernelspec": {
   "display_name": "Python 3",
   "language": "python",
   "name": "python3"
  },
  "language_info": {
   "codemirror_mode": {
    "name": "ipython",
    "version": 3
   },
   "file_extension": ".py",
   "mimetype": "text/x-python",
   "name": "python",
   "nbconvert_exporter": "python",
   "pygments_lexer": "ipython3",
   "version": "3.7.3"
  }
 },
 "nbformat": 4,
 "nbformat_minor": 4
}
